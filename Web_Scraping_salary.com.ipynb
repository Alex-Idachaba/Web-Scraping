{
 "cells": [
  {
   "cell_type": "markdown",
   "metadata": {},
   "source": [
    "# Salary.com Scraper"
   ]
  },
  {
   "cell_type": "code",
   "execution_count": 1,
   "metadata": {},
   "outputs": [],
   "source": [
    "import re\n",
    "import csv\n",
    "import json\n",
    "from time import sleep\n",
    "from bs4 import BeautifulSoup\n",
    "import requests"
   ]
  },
  {
   "cell_type": "code",
   "execution_count": 3,
   "metadata": {},
   "outputs": [],
   "source": [
    "template = 'https://www.salary.com/research/salary/benchmark/{}-salary/{}'"
   ]
  },
  {
   "cell_type": "code",
   "execution_count": 4,
   "metadata": {},
   "outputs": [
    {
     "data": {
      "text/plain": [
       "<Response [200]>"
      ]
     },
     "execution_count": 4,
     "metadata": {},
     "output_type": "execute_result"
    }
   ],
   "source": [
    "# build the url based on search criteria\n",
    "position = 'business-data-analyst-ii'\n",
    "location = 'austin-tx'\n",
    "\n",
    "url = template.format(position, location)\n",
    "\n",
    "# request the raw html\n",
    "response = requests.get(url)\n",
    "response"
   ]
  },
  {
   "cell_type": "code",
   "execution_count": 5,
   "metadata": {},
   "outputs": [],
   "source": [
    "soup = BeautifulSoup(response.text, 'html.parser')"
   ]
  },
  {
   "cell_type": "markdown",
   "metadata": {},
   "source": [
    "### Inspect the data extraction options, look for html or json formatted data, then extract the script"
   ]
  },
  {
   "cell_type": "code",
   "execution_count": 7,
   "metadata": {},
   "outputs": [
    {
     "data": {
      "text/plain": [
       "<script type=\"application/ld+json\">\n",
       " {\n",
       "    \"@context\": \"http://schema.org\",\n",
       "    \"@type\": \"Occupation\",\n",
       "    \"name\": \"Business Data Analyst II\",\n",
       "    \"mainEntityOfPage\": {\n",
       "        \"@type\": \"WebPage\",\n",
       "        \"lastReviewed\": \"2021-02-26T00:00:00Z\"\n",
       "    },\n",
       "    \"description\": \"Business Data Analyst II performs business analysis using various techniques, e.g. statistical analysis, explanatory and predictive modeling, data mining. Determines best practices and develops actionable insights and recommendations for the current business operations. Being a Business Data Analyst II works directly with the internal or external client to identify analytical requirements. May help to produce ad hoc data and reports. Additionally, Business Data Analyst II may assist in implementing or developing systems to capture business operation information. May occasionally guide less experienced business data analysts. Requires a bachelor&#39;s degree. Typically reports to a supervisor or manager. The Business Data Analyst II gains exposure to some of the complex tasks within the job function. Occasionally directed in several aspects of the work. To be a Business Data Analyst II typically requires 2 to 4 years of related experience.\",\n",
       "    \"estimatedSalary\": [{\n",
       "    \"@type\": \"MonetaryAmountDistribution\",\n",
       "    \"name\": \"base\",\n",
       "    \"currency\": \"USD\",\n",
       "    \"duration\": \"P1Y\",\n",
       "    \"percentile10\": \"57521\",\n",
       "    \"percentile25\": \"66119\",\n",
       "    \"median\": \"75562\",\n",
       "    \"percentile75\": \"84304\",\n",
       "    \"percentile90\": \"92264\"\n",
       "    },\n",
       "    {\n",
       "    \"@type\": \"MonetaryAmountDistribution\",\n",
       "    \"name\": \"total compensation\",\n",
       "    \"currency\": \"USD\",\n",
       "    \"duration\": \"P1Y\",\n",
       "    \"percentile10\": \"59044\",\n",
       "    \"percentile25\": \"68470\",\n",
       "    \"median\": \"78822\",\n",
       "    \"percentile75\": \"89033\",\n",
       "    \"percentile90\": \"98330\"\n",
       "    }]\n",
       "        \n",
       "        ,\n",
       "        \"occupationLocation\": [{\n",
       "            \"@type\": \"City\",\n",
       "            \"name\": \"Austin, TX\"\n",
       "        }]\n",
       "        \n",
       "}\n",
       "</script>"
      ]
     },
     "execution_count": 7,
     "metadata": {},
     "output_type": "execute_result"
    }
   ],
   "source": [
    "pattern = re.compile(r'Occupation')\n",
    "script = soup.find('script', {\"type\":\"application/ld+json\"}, text=pattern)\n",
    "script"
   ]
  },
  {
   "cell_type": "markdown",
   "metadata": {},
   "source": [
    "### Identify the relevant data and extract the json data"
   ]
  },
  {
   "cell_type": "code",
   "execution_count": 11,
   "metadata": {},
   "outputs": [],
   "source": [
    "json_raw = script.contents[0]"
   ]
  },
  {
   "cell_type": "markdown",
   "metadata": {},
   "source": [
    "### Convert the json data"
   ]
  },
  {
   "cell_type": "code",
   "execution_count": 12,
   "metadata": {},
   "outputs": [],
   "source": [
    "json_data = json.loads(json_raw)"
   ]
  },
  {
   "cell_type": "code",
   "execution_count": 13,
   "metadata": {},
   "outputs": [
    {
     "data": {
      "text/plain": [
       "{'@context': 'http://schema.org',\n",
       " '@type': 'Occupation',\n",
       " 'name': 'Business Data Analyst II',\n",
       " 'mainEntityOfPage': {'@type': 'WebPage',\n",
       "  'lastReviewed': '2021-02-26T00:00:00Z'},\n",
       " 'description': 'Business Data Analyst II performs business analysis using various techniques, e.g. statistical analysis, explanatory and predictive modeling, data mining. Determines best practices and develops actionable insights and recommendations for the current business operations. Being a Business Data Analyst II works directly with the internal or external client to identify analytical requirements. May help to produce ad hoc data and reports. Additionally, Business Data Analyst II may assist in implementing or developing systems to capture business operation information. May occasionally guide less experienced business data analysts. Requires a bachelor&#39;s degree. Typically reports to a supervisor or manager. The Business Data Analyst II gains exposure to some of the complex tasks within the job function. Occasionally directed in several aspects of the work. To be a Business Data Analyst II typically requires 2 to 4 years of related experience.',\n",
       " 'estimatedSalary': [{'@type': 'MonetaryAmountDistribution',\n",
       "   'name': 'base',\n",
       "   'currency': 'USD',\n",
       "   'duration': 'P1Y',\n",
       "   'percentile10': '57521',\n",
       "   'percentile25': '66119',\n",
       "   'median': '75562',\n",
       "   'percentile75': '84304',\n",
       "   'percentile90': '92264'},\n",
       "  {'@type': 'MonetaryAmountDistribution',\n",
       "   'name': 'total compensation',\n",
       "   'currency': 'USD',\n",
       "   'duration': 'P1Y',\n",
       "   'percentile10': '59044',\n",
       "   'percentile25': '68470',\n",
       "   'median': '78822',\n",
       "   'percentile75': '89033',\n",
       "   'percentile90': '98330'}],\n",
       " 'occupationLocation': [{'@type': 'City', 'name': 'Austin, TX'}]}"
      ]
     },
     "execution_count": 13,
     "metadata": {},
     "output_type": "execute_result"
    }
   ],
   "source": [
    "json_data"
   ]
  },
  {
   "cell_type": "markdown",
   "metadata": {},
   "source": [
    "### Extracting the data\n",
    "If you look closely, you'll notice that there are two sets of compensation statistics, one is the base salary, and the other is total compensation. The total compensation will include bonuses and other benefits. For this example, I'm just going to grab the base salary."
   ]
  },
  {
   "cell_type": "code",
   "execution_count": 14,
   "metadata": {},
   "outputs": [
    {
     "name": "stdout",
     "output_type": "stream",
     "text": [
      "('Business Data Analyst II', 'Austin, TX', 'Business Data Analyst II performs business analysis using various techniques, e.g. statistical analysis, explanatory and predictive modeling, data mining. Determines best practices and develops actionable insights and recommendations for the current business operations. Being a Business Data Analyst II works directly with the internal or external client to identify analytical requirements. May help to produce ad hoc data and reports. Additionally, Business Data Analyst II may assist in implementing or developing systems to capture business operation information. May occasionally guide less experienced business data analysts. Requires a bachelor&#39;s degree. Typically reports to a supervisor or manager. The Business Data Analyst II gains exposure to some of the complex tasks within the job function. Occasionally directed in several aspects of the work. To be a Business Data Analyst II typically requires 2 to 4 years of related experience.', '57521', '66119', '75562', '84304', '92264')\n"
     ]
    }
   ],
   "source": [
    "job_title = json_data['name']\n",
    "location = json_data['occupationLocation'][0]['name']\n",
    "description = json_data['description']\n",
    "\n",
    "ntile_10 = json_data['estimatedSalary'][0]['percentile10']\n",
    "ntile_25 = json_data['estimatedSalary'][0]['percentile25']\n",
    "ntile_50 = json_data['estimatedSalary'][0]['median']\n",
    "ntile_75 = json_data['estimatedSalary'][0]['percentile75']\n",
    "ntile_90 = json_data['estimatedSalary'][0]['percentile90']\n",
    "\n",
    "salary_data = (job_title, location, description, ntile_10, ntile_25, ntile_50, ntile_75, ntile_90)\n",
    "print(salary_data)"
   ]
  },
  {
   "cell_type": "markdown",
   "metadata": {},
   "source": [
    "### Expanding your data set"
   ]
  },
  {
   "cell_type": "code",
   "execution_count": 26,
   "metadata": {},
   "outputs": [],
   "source": [
    "def extract_salary_info(job_position, job_location):\n",
    "    \"\"\"Extract and return salary information\"\"\"\n",
    "    \n",
    "    template = 'https://www.salary.com/research/salary/benchmark/{}-salary/{}'\n",
    " \n",
    "    # build the url based on search criteria\n",
    "    url = template.format(job_position, job_location)\n",
    "\n",
    "    # request the raw html .. check for valid request\n",
    "    try:\n",
    "        response = requests.get(url)\n",
    "        if response.status_code != 200:\n",
    "            return None\n",
    "    except requests.exceptions.ConnectionError:\n",
    "        return None\n",
    "   \n",
    "    # parse the html and extract json data\n",
    "    soup = BeautifulSoup(response.text, 'html.parser')\n",
    "    pattern = re.compile(r'Occupation')\n",
    "    script = soup.find('script', {'type': 'application/ld+json'}, text=pattern)\n",
    "    json_raw = script.contents[0]\n",
    "    json_data = json.loads(json_raw)\n",
    "\n",
    "    # extract salary data\n",
    "    job_title = json_data['name']\n",
    "    location = json_data['occupationLocation'][0]['name']\n",
    "    description = json_data['description']\n",
    "\n",
    "    ntile_10 = json_data['estimatedSalary'][0]['percentile10']\n",
    "    ntile_25 = json_data['estimatedSalary'][0]['percentile25']\n",
    "    ntile_50 = json_data['estimatedSalary'][0]['median']\n",
    "    ntile_75 = json_data['estimatedSalary'][0]['percentile75']\n",
    "    ntile_90 = json_data['estimatedSalary'][0]['percentile90']\n",
    "\n",
    "    data = (job_title, location, description, ntile_10, ntile_25, ntile_50, ntile_75, ntile_90)\n",
    "    return data"
   ]
  },
  {
   "cell_type": "markdown",
   "metadata": {},
   "source": [
    "let's import a list of cities. "
   ]
  },
  {
   "cell_type": "code",
   "execution_count": 35,
   "metadata": {},
   "outputs": [],
   "source": [
    "with open('largest_cities.csv', newline='',mode='r') as f:\n",
    "    reader = csv.reader(f)\n",
    "    # a reader typically returns each row as a list... so I need to flatten the list to make a single list\n",
    "    cities = [city for row in reader for city in row]"
   ]
  },
  {
   "cell_type": "code",
   "execution_count": 38,
   "metadata": {},
   "outputs": [
    {
     "name": "stdout",
     "output_type": "stream",
     "text": [
      "['New-York-NY', 'Los-Angeles-CA', 'Chicago-IL', 'Houston-TX', 'Phoenix-AZ', 'Philadelphia-PA', 'San-Antonio-TX', 'San-Diego-CA', 'Dallas-TX', 'San-Jose-CA', 'Austin-TX', 'Jacksonville-FL', 'Fort-Worth-TX', 'Columbus-OH', 'Charlotte-NC', 'San-Francisco-CA', 'Indianapolis-IN', 'Seattle-WA', 'Denver-CO', 'Washington-DC', 'Boston-MA', 'El-Paso-TX', 'Nashville-TN', 'Detroit-MI', 'Oklahoma-City-OK']\n"
     ]
    }
   ],
   "source": [
    "print(cities[:25])"
   ]
  },
  {
   "cell_type": "markdown",
   "metadata": {},
   "source": [
    "### Getting all city data"
   ]
  },
  {
   "cell_type": "code",
   "execution_count": 46,
   "metadata": {},
   "outputs": [],
   "source": [
    "salary_data = []\n",
    "\n",
    "for city in cities[:5]:\n",
    "    result = extract_salary_info('business-data-analyst-ii', city)\n",
    "    if result:\n",
    "        salary_data.append(result)\n",
    "        sleep(0.5)"
   ]
  },
  {
   "cell_type": "markdown",
   "metadata": {},
   "source": [
    "### Save the data to csv"
   ]
  },
  {
   "cell_type": "code",
   "execution_count": 44,
   "metadata": {},
   "outputs": [],
   "source": [
    "with open('salary-results.csv', 'w', newline='', encoding='utf-8') as f:\n",
    "    writer = csv.writer(f)\n",
    "    writer.writerow(['Title','Location', 'Description', 'nTile10', 'nTile25', 'nTile50', 'nTile75', 'nTile90'])\n",
    "    writer.writerows(salary_data)"
   ]
  },
  {
   "cell_type": "code",
   "execution_count": 45,
   "metadata": {
    "scrolled": true
   },
   "outputs": [
    {
     "name": "stdout",
     "output_type": "stream",
     "text": [
      "('Business Data Analyst II', 'New York, NY', 'Business Data Analyst II performs business analysis using various techniques, e.g. statistical analysis, explanatory and predictive modeling, data mining. Determines best practices and develops actionable insights and recommendations for the current business operations. Being a Business Data Analyst II works directly with the internal or external client to identify analytical requirements. May help to produce ad hoc data and reports. Additionally, Business Data Analyst II may assist in implementing or developing systems to capture business operation information. May occasionally guide less experienced business data analysts. Requires a bachelor&#39;s degree. Typically reports to a supervisor or manager. The Business Data Analyst II gains exposure to some of the complex tasks within the job function. Occasionally directed in several aspects of the work. To be a Business Data Analyst II typically requires 2 to 4 years of related experience.', '70359', '80875', '92426', '103119', '112855')\n",
      "('Business Data Analyst II', 'Los Angeles, CA', 'Business Data Analyst II performs business analysis using various techniques, e.g. statistical analysis, explanatory and predictive modeling, data mining. Determines best practices and develops actionable insights and recommendations for the current business operations. Being a Business Data Analyst II works directly with the internal or external client to identify analytical requirements. May help to produce ad hoc data and reports. Additionally, Business Data Analyst II may assist in implementing or developing systems to capture business operation information. May occasionally guide less experienced business data analysts. Requires a bachelor&#39;s degree. Typically reports to a supervisor or manager. The Business Data Analyst II gains exposure to some of the complex tasks within the job function. Occasionally directed in several aspects of the work. To be a Business Data Analyst II typically requires 2 to 4 years of related experience.', '66146', '76033', '86893', '96946', '106099')\n",
      "('Business Data Analyst II', 'Chicago, IL', 'Business Data Analyst II performs business analysis using various techniques, e.g. statistical analysis, explanatory and predictive modeling, data mining. Determines best practices and develops actionable insights and recommendations for the current business operations. Being a Business Data Analyst II works directly with the internal or external client to identify analytical requirements. May help to produce ad hoc data and reports. Additionally, Business Data Analyst II may assist in implementing or developing systems to capture business operation information. May occasionally guide less experienced business data analysts. Requires a bachelor&#39;s degree. Typically reports to a supervisor or manager. The Business Data Analyst II gains exposure to some of the complex tasks within the job function. Occasionally directed in several aspects of the work. To be a Business Data Analyst II typically requires 2 to 4 years of related experience.', '62047', '71321', '81508', '90938', '99524')\n",
      "('Business Data Analyst II', 'Houston, TX', 'Business Data Analyst II performs business analysis using various techniques, e.g. statistical analysis, explanatory and predictive modeling, data mining. Determines best practices and develops actionable insights and recommendations for the current business operations. Being a Business Data Analyst II works directly with the internal or external client to identify analytical requirements. May help to produce ad hoc data and reports. Additionally, Business Data Analyst II may assist in implementing or developing systems to capture business operation information. May occasionally guide less experienced business data analysts. Requires a bachelor&#39;s degree. Typically reports to a supervisor or manager. The Business Data Analyst II gains exposure to some of the complex tasks within the job function. Occasionally directed in several aspects of the work. To be a Business Data Analyst II typically requires 2 to 4 years of related experience.', '59948', '68908', '78750', '87862', '96157')\n",
      "('Business Data Analyst II', 'Phoenix, AZ', 'Business Data Analyst II performs business analysis using various techniques, e.g. statistical analysis, explanatory and predictive modeling, data mining. Determines best practices and develops actionable insights and recommendations for the current business operations. Being a Business Data Analyst II works directly with the internal or external client to identify analytical requirements. May help to produce ad hoc data and reports. Additionally, Business Data Analyst II may assist in implementing or developing systems to capture business operation information. May occasionally guide less experienced business data analysts. Requires a bachelor&#39;s degree. Typically reports to a supervisor or manager. The Business Data Analyst II gains exposure to some of the complex tasks within the job function. Occasionally directed in several aspects of the work. To be a Business Data Analyst II typically requires 2 to 4 years of related experience.', '57775', '66411', '75896', '84677', '92672')\n"
     ]
    }
   ],
   "source": [
    "# print the first 5 records\n",
    "for row in salary_data[:5]:\n",
    "    print(row)"
   ]
  },
  {
   "cell_type": "markdown",
   "metadata": {},
   "source": [
    "### Consolidate into main function"
   ]
  },
  {
   "cell_type": "code",
   "execution_count": 47,
   "metadata": {},
   "outputs": [],
   "source": [
    "def main(job_position):\n",
    "    \"\"\"Extract salary data from top us cities\"\"\"\n",
    "    \n",
    "    # get the list of largest us cities\n",
    "    with open('largest_cities.csv', newline='') as f:\n",
    "        reader = csv.reader(f)\n",
    "        # a reader typically returns each row as a list... so I need to flatten the list to make a single list\n",
    "        cities = [city for row in reader for city in row]\n",
    "        \n",
    "    # extract salary data for each city\n",
    "    salary_data = []\n",
    "    for city in cities[:30]:\n",
    "        result = extract_salary_info(job_position, city)\n",
    "        if result:\n",
    "            salary_data.append(result)\n",
    "            sleep(0.5)\n",
    "            \n",
    "    # save data to csv file\n",
    "    with open('salary-results.csv', 'w', newline='', encoding='utf-8') as f:\n",
    "        writer = csv.writer(f)\n",
    "        writer.writerow(['Title','Location', 'Description', 'nTile10', 'nTile25', 'nTile50', 'nTile75', 'nTile90'])\n",
    "        writer.writerows(salary_data)\n",
    "        \n",
    "    return salary_data"
   ]
  },
  {
   "cell_type": "code",
   "execution_count": 49,
   "metadata": {
    "collapsed": true
   },
   "outputs": [
    {
     "data": {
      "text/plain": [
       "[('Business Data Analyst II',\n",
       "  'New York, NY',\n",
       "  'Business Data Analyst II performs business analysis using various techniques, e.g. statistical analysis, explanatory and predictive modeling, data mining. Determines best practices and develops actionable insights and recommendations for the current business operations. Being a Business Data Analyst II works directly with the internal or external client to identify analytical requirements. May help to produce ad hoc data and reports. Additionally, Business Data Analyst II may assist in implementing or developing systems to capture business operation information. May occasionally guide less experienced business data analysts. Requires a bachelor&#39;s degree. Typically reports to a supervisor or manager. The Business Data Analyst II gains exposure to some of the complex tasks within the job function. Occasionally directed in several aspects of the work. To be a Business Data Analyst II typically requires 2 to 4 years of related experience.',\n",
       "  '70359',\n",
       "  '80875',\n",
       "  '92426',\n",
       "  '103119',\n",
       "  '112855'),\n",
       " ('Business Data Analyst II',\n",
       "  'Los Angeles, CA',\n",
       "  'Business Data Analyst II performs business analysis using various techniques, e.g. statistical analysis, explanatory and predictive modeling, data mining. Determines best practices and develops actionable insights and recommendations for the current business operations. Being a Business Data Analyst II works directly with the internal or external client to identify analytical requirements. May help to produce ad hoc data and reports. Additionally, Business Data Analyst II may assist in implementing or developing systems to capture business operation information. May occasionally guide less experienced business data analysts. Requires a bachelor&#39;s degree. Typically reports to a supervisor or manager. The Business Data Analyst II gains exposure to some of the complex tasks within the job function. Occasionally directed in several aspects of the work. To be a Business Data Analyst II typically requires 2 to 4 years of related experience.',\n",
       "  '66146',\n",
       "  '76033',\n",
       "  '86893',\n",
       "  '96946',\n",
       "  '106099'),\n",
       " ('Business Data Analyst II',\n",
       "  'Chicago, IL',\n",
       "  'Business Data Analyst II performs business analysis using various techniques, e.g. statistical analysis, explanatory and predictive modeling, data mining. Determines best practices and develops actionable insights and recommendations for the current business operations. Being a Business Data Analyst II works directly with the internal or external client to identify analytical requirements. May help to produce ad hoc data and reports. Additionally, Business Data Analyst II may assist in implementing or developing systems to capture business operation information. May occasionally guide less experienced business data analysts. Requires a bachelor&#39;s degree. Typically reports to a supervisor or manager. The Business Data Analyst II gains exposure to some of the complex tasks within the job function. Occasionally directed in several aspects of the work. To be a Business Data Analyst II typically requires 2 to 4 years of related experience.',\n",
       "  '62047',\n",
       "  '71321',\n",
       "  '81508',\n",
       "  '90938',\n",
       "  '99524'),\n",
       " ('Business Data Analyst II',\n",
       "  'Houston, TX',\n",
       "  'Business Data Analyst II performs business analysis using various techniques, e.g. statistical analysis, explanatory and predictive modeling, data mining. Determines best practices and develops actionable insights and recommendations for the current business operations. Being a Business Data Analyst II works directly with the internal or external client to identify analytical requirements. May help to produce ad hoc data and reports. Additionally, Business Data Analyst II may assist in implementing or developing systems to capture business operation information. May occasionally guide less experienced business data analysts. Requires a bachelor&#39;s degree. Typically reports to a supervisor or manager. The Business Data Analyst II gains exposure to some of the complex tasks within the job function. Occasionally directed in several aspects of the work. To be a Business Data Analyst II typically requires 2 to 4 years of related experience.',\n",
       "  '59948',\n",
       "  '68908',\n",
       "  '78750',\n",
       "  '87862',\n",
       "  '96157'),\n",
       " ('Business Data Analyst II',\n",
       "  'Phoenix, AZ',\n",
       "  'Business Data Analyst II performs business analysis using various techniques, e.g. statistical analysis, explanatory and predictive modeling, data mining. Determines best practices and develops actionable insights and recommendations for the current business operations. Being a Business Data Analyst II works directly with the internal or external client to identify analytical requirements. May help to produce ad hoc data and reports. Additionally, Business Data Analyst II may assist in implementing or developing systems to capture business operation information. May occasionally guide less experienced business data analysts. Requires a bachelor&#39;s degree. Typically reports to a supervisor or manager. The Business Data Analyst II gains exposure to some of the complex tasks within the job function. Occasionally directed in several aspects of the work. To be a Business Data Analyst II typically requires 2 to 4 years of related experience.',\n",
       "  '57775',\n",
       "  '66411',\n",
       "  '75896',\n",
       "  '84677',\n",
       "  '92672'),\n",
       " ('Business Data Analyst II',\n",
       "  'Philadelphia, PA',\n",
       "  'Business Data Analyst II performs business analysis using various techniques, e.g. statistical analysis, explanatory and predictive modeling, data mining. Determines best practices and develops actionable insights and recommendations for the current business operations. Being a Business Data Analyst II works directly with the internal or external client to identify analytical requirements. May help to produce ad hoc data and reports. Additionally, Business Data Analyst II may assist in implementing or developing systems to capture business operation information. May occasionally guide less experienced business data analysts. Requires a bachelor&#39;s degree. Typically reports to a supervisor or manager. The Business Data Analyst II gains exposure to some of the complex tasks within the job function. Occasionally directed in several aspects of the work. To be a Business Data Analyst II typically requires 2 to 4 years of related experience.',\n",
       "  '62650',\n",
       "  '72014',\n",
       "  '82300',\n",
       "  '91822',\n",
       "  '100491'),\n",
       " ('Business Data Analyst II',\n",
       "  'San Antonio, TX',\n",
       "  'Business Data Analyst II performs business analysis using various techniques, e.g. statistical analysis, explanatory and predictive modeling, data mining. Determines best practices and develops actionable insights and recommendations for the current business operations. Being a Business Data Analyst II works directly with the internal or external client to identify analytical requirements. May help to produce ad hoc data and reports. Additionally, Business Data Analyst II may assist in implementing or developing systems to capture business operation information. May occasionally guide less experienced business data analysts. Requires a bachelor&#39;s degree. Typically reports to a supervisor or manager. The Business Data Analyst II gains exposure to some of the complex tasks within the job function. Occasionally directed in several aspects of the work. To be a Business Data Analyst II typically requires 2 to 4 years of related experience.',\n",
       "  '56872',\n",
       "  '65372',\n",
       "  '74709',\n",
       "  '83353',\n",
       "  '91222'),\n",
       " ('Business Data Analyst II',\n",
       "  'San Diego, CA',\n",
       "  'Business Data Analyst II performs business analysis using various techniques, e.g. statistical analysis, explanatory and predictive modeling, data mining. Determines best practices and develops actionable insights and recommendations for the current business operations. Being a Business Data Analyst II works directly with the internal or external client to identify analytical requirements. May help to produce ad hoc data and reports. Additionally, Business Data Analyst II may assist in implementing or developing systems to capture business operation information. May occasionally guide less experienced business data analysts. Requires a bachelor&#39;s degree. Typically reports to a supervisor or manager. The Business Data Analyst II gains exposure to some of the complex tasks within the job function. Occasionally directed in several aspects of the work. To be a Business Data Analyst II typically requires 2 to 4 years of related experience.',\n",
       "  '63116',\n",
       "  '72550',\n",
       "  '82911',\n",
       "  '92504',\n",
       "  '101238'),\n",
       " ('Business Data Analyst II',\n",
       "  'Dallas, TX',\n",
       "  'Business Data Analyst II performs business analysis using various techniques, e.g. statistical analysis, explanatory and predictive modeling, data mining. Determines best practices and develops actionable insights and recommendations for the current business operations. Being a Business Data Analyst II works directly with the internal or external client to identify analytical requirements. May help to produce ad hoc data and reports. Additionally, Business Data Analyst II may assist in implementing or developing systems to capture business operation information. May occasionally guide less experienced business data analysts. Requires a bachelor&#39;s degree. Typically reports to a supervisor or manager. The Business Data Analyst II gains exposure to some of the complex tasks within the job function. Occasionally directed in several aspects of the work. To be a Business Data Analyst II typically requires 2 to 4 years of related experience.',\n",
       "  '58106',\n",
       "  '66791',\n",
       "  '76330',\n",
       "  '85161',\n",
       "  '93202'),\n",
       " ('Business Data Analyst II',\n",
       "  'San Jose, CA',\n",
       "  'Business Data Analyst II performs business analysis using various techniques, e.g. statistical analysis, explanatory and predictive modeling, data mining. Determines best practices and develops actionable insights and recommendations for the current business operations. Being a Business Data Analyst II works directly with the internal or external client to identify analytical requirements. May help to produce ad hoc data and reports. Additionally, Business Data Analyst II may assist in implementing or developing systems to capture business operation information. May occasionally guide less experienced business data analysts. Requires a bachelor&#39;s degree. Typically reports to a supervisor or manager. The Business Data Analyst II gains exposure to some of the complex tasks within the job function. Occasionally directed in several aspects of the work. To be a Business Data Analyst II typically requires 2 to 4 years of related experience.',\n",
       "  '73400',\n",
       "  '84371',\n",
       "  '96421',\n",
       "  '107577',\n",
       "  '117733'),\n",
       " ('Business Data Analyst II',\n",
       "  'Austin, TX',\n",
       "  'Business Data Analyst II performs business analysis using various techniques, e.g. statistical analysis, explanatory and predictive modeling, data mining. Determines best practices and develops actionable insights and recommendations for the current business operations. Being a Business Data Analyst II works directly with the internal or external client to identify analytical requirements. May help to produce ad hoc data and reports. Additionally, Business Data Analyst II may assist in implementing or developing systems to capture business operation information. May occasionally guide less experienced business data analysts. Requires a bachelor&#39;s degree. Typically reports to a supervisor or manager. The Business Data Analyst II gains exposure to some of the complex tasks within the job function. Occasionally directed in several aspects of the work. To be a Business Data Analyst II typically requires 2 to 4 years of related experience.',\n",
       "  '57521',\n",
       "  '66119',\n",
       "  '75562',\n",
       "  '84304',\n",
       "  '92264'),\n",
       " ('Business Data Analyst II',\n",
       "  'Jacksonville, FL',\n",
       "  'Business Data Analyst II performs business analysis using various techniques, e.g. statistical analysis, explanatory and predictive modeling, data mining. Determines best practices and develops actionable insights and recommendations for the current business operations. Being a Business Data Analyst II works directly with the internal or external client to identify analytical requirements. May help to produce ad hoc data and reports. Additionally, Business Data Analyst II may assist in implementing or developing systems to capture business operation information. May occasionally guide less experienced business data analysts. Requires a bachelor&#39;s degree. Typically reports to a supervisor or manager. The Business Data Analyst II gains exposure to some of the complex tasks within the job function. Occasionally directed in several aspects of the work. To be a Business Data Analyst II typically requires 2 to 4 years of related experience.',\n",
       "  '55433',\n",
       "  '63719',\n",
       "  '72819',\n",
       "  '81244',\n",
       "  '88915'),\n",
       " ('Business Data Analyst II',\n",
       "  'Fort Worth, TX',\n",
       "  'Business Data Analyst II performs business analysis using various techniques, e.g. statistical analysis, explanatory and predictive modeling, data mining. Determines best practices and develops actionable insights and recommendations for the current business operations. Being a Business Data Analyst II works directly with the internal or external client to identify analytical requirements. May help to produce ad hoc data and reports. Additionally, Business Data Analyst II may assist in implementing or developing systems to capture business operation information. May occasionally guide less experienced business data analysts. Requires a bachelor&#39;s degree. Typically reports to a supervisor or manager. The Business Data Analyst II gains exposure to some of the complex tasks within the job function. Occasionally directed in several aspects of the work. To be a Business Data Analyst II typically requires 2 to 4 years of related experience.',\n",
       "  '56989',\n",
       "  '65507',\n",
       "  '74863',\n",
       "  '83525',\n",
       "  '91411'),\n",
       " ('Business Data Analyst II',\n",
       "  'Columbus, OH',\n",
       "  'Business Data Analyst II performs business analysis using various techniques, e.g. statistical analysis, explanatory and predictive modeling, data mining. Determines best practices and develops actionable insights and recommendations for the current business operations. Being a Business Data Analyst II works directly with the internal or external client to identify analytical requirements. May help to produce ad hoc data and reports. Additionally, Business Data Analyst II may assist in implementing or developing systems to capture business operation information. May occasionally guide less experienced business data analysts. Requires a bachelor&#39;s degree. Typically reports to a supervisor or manager. The Business Data Analyst II gains exposure to some of the complex tasks within the job function. Occasionally directed in several aspects of the work. To be a Business Data Analyst II typically requires 2 to 4 years of related experience.',\n",
       "  '57696',\n",
       "  '66320',\n",
       "  '75792',\n",
       "  '84561',\n",
       "  '92545'),\n",
       " ('Business Data Analyst II',\n",
       "  'Charlotte, NC',\n",
       "  'Business Data Analyst II performs business analysis using various techniques, e.g. statistical analysis, explanatory and predictive modeling, data mining. Determines best practices and develops actionable insights and recommendations for the current business operations. Being a Business Data Analyst II works directly with the internal or external client to identify analytical requirements. May help to produce ad hoc data and reports. Additionally, Business Data Analyst II may assist in implementing or developing systems to capture business operation information. May occasionally guide less experienced business data analysts. Requires a bachelor&#39;s degree. Typically reports to a supervisor or manager. The Business Data Analyst II gains exposure to some of the complex tasks within the job function. Occasionally directed in several aspects of the work. To be a Business Data Analyst II typically requires 2 to 4 years of related experience.',\n",
       "  '57292',\n",
       "  '65855',\n",
       "  '75261',\n",
       "  '83968',\n",
       "  '91896'),\n",
       " ('Business Data Analyst II',\n",
       "  'San Francisco, CA',\n",
       "  'Business Data Analyst II performs business analysis using various techniques, e.g. statistical analysis, explanatory and predictive modeling, data mining. Determines best practices and develops actionable insights and recommendations for the current business operations. Being a Business Data Analyst II works directly with the internal or external client to identify analytical requirements. May help to produce ad hoc data and reports. Additionally, Business Data Analyst II may assist in implementing or developing systems to capture business operation information. May occasionally guide less experienced business data analysts. Requires a bachelor&#39;s degree. Typically reports to a supervisor or manager. The Business Data Analyst II gains exposure to some of the complex tasks within the job function. Occasionally directed in several aspects of the work. To be a Business Data Analyst II typically requires 2 to 4 years of related experience.',\n",
       "  '73107',\n",
       "  '84035',\n",
       "  '96037',\n",
       "  '107148',\n",
       "  '117264'),\n",
       " ('Business Data Analyst II',\n",
       "  'Indianapolis, IN',\n",
       "  'Business Data Analyst II performs business analysis using various techniques, e.g. statistical analysis, explanatory and predictive modeling, data mining. Determines best practices and develops actionable insights and recommendations for the current business operations. Being a Business Data Analyst II works directly with the internal or external client to identify analytical requirements. May help to produce ad hoc data and reports. Additionally, Business Data Analyst II may assist in implementing or developing systems to capture business operation information. May occasionally guide less experienced business data analysts. Requires a bachelor&#39;s degree. Typically reports to a supervisor or manager. The Business Data Analyst II gains exposure to some of the complex tasks within the job function. Occasionally directed in several aspects of the work. To be a Business Data Analyst II typically requires 2 to 4 years of related experience.',\n",
       "  '56907',\n",
       "  '65413',\n",
       "  '74755',\n",
       "  '83404',\n",
       "  '91279'),\n",
       " ('Business Data Analyst II',\n",
       "  'Seattle, WA',\n",
       "  'Business Data Analyst II performs business analysis using various techniques, e.g. statistical analysis, explanatory and predictive modeling, data mining. Determines best practices and develops actionable insights and recommendations for the current business operations. Being a Business Data Analyst II works directly with the internal or external client to identify analytical requirements. May help to produce ad hoc data and reports. Additionally, Business Data Analyst II may assist in implementing or developing systems to capture business operation information. May occasionally guide less experienced business data analysts. Requires a bachelor&#39;s degree. Typically reports to a supervisor or manager. The Business Data Analyst II gains exposure to some of the complex tasks within the job function. Occasionally directed in several aspects of the work. To be a Business Data Analyst II typically requires 2 to 4 years of related experience.',\n",
       "  '63948',\n",
       "  '73507',\n",
       "  '84005',\n",
       "  '93725',\n",
       "  '102574'),\n",
       " ('Business Data Analyst II',\n",
       "  'Denver, CO',\n",
       "  'Business Data Analyst II performs business analysis using various techniques, e.g. statistical analysis, explanatory and predictive modeling, data mining. Determines best practices and develops actionable insights and recommendations for the current business operations. Being a Business Data Analyst II works directly with the internal or external client to identify analytical requirements. May help to produce ad hoc data and reports. Additionally, Business Data Analyst II may assist in implementing or developing systems to capture business operation information. May occasionally guide less experienced business data analysts. Requires a bachelor&#39;s degree. Typically reports to a supervisor or manager. The Business Data Analyst II gains exposure to some of the complex tasks within the job function. Occasionally directed in several aspects of the work. To be a Business Data Analyst II typically requires 2 to 4 years of related experience.',\n",
       "  '59147',\n",
       "  '67987',\n",
       "  '77698',\n",
       "  '86687',\n",
       "  '94872'),\n",
       " ('Business Data Analyst II',\n",
       "  'Washington, DC',\n",
       "  'Business Data Analyst II performs business analysis using various techniques, e.g. statistical analysis, explanatory and predictive modeling, data mining. Determines best practices and develops actionable insights and recommendations for the current business operations. Being a Business Data Analyst II works directly with the internal or external client to identify analytical requirements. May help to produce ad hoc data and reports. Additionally, Business Data Analyst II may assist in implementing or developing systems to capture business operation information. May occasionally guide less experienced business data analysts. Requires a bachelor&#39;s degree. Typically reports to a supervisor or manager. The Business Data Analyst II gains exposure to some of the complex tasks within the job function. Occasionally directed in several aspects of the work. To be a Business Data Analyst II typically requires 2 to 4 years of related experience.',\n",
       "  '65107',\n",
       "  '74838',\n",
       "  '85527',\n",
       "  '95422',\n",
       "  '104431'),\n",
       " ('Business Data Analyst II',\n",
       "  'Boston, MA',\n",
       "  'Business Data Analyst II performs business analysis using various techniques, e.g. statistical analysis, explanatory and predictive modeling, data mining. Determines best practices and develops actionable insights and recommendations for the current business operations. Being a Business Data Analyst II works directly with the internal or external client to identify analytical requirements. May help to produce ad hoc data and reports. Additionally, Business Data Analyst II may assist in implementing or developing systems to capture business operation information. May occasionally guide less experienced business data analysts. Requires a bachelor&#39;s degree. Typically reports to a supervisor or manager. The Business Data Analyst II gains exposure to some of the complex tasks within the job function. Occasionally directed in several aspects of the work. To be a Business Data Analyst II typically requires 2 to 4 years of related experience.',\n",
       "  '65896',\n",
       "  '75746',\n",
       "  '86564',\n",
       "  '96579',\n",
       "  '105697'),\n",
       " ('Business Data Analyst II',\n",
       "  'El Paso, TX',\n",
       "  'Business Data Analyst II performs business analysis using various techniques, e.g. statistical analysis, explanatory and predictive modeling, data mining. Determines best practices and develops actionable insights and recommendations for the current business operations. Being a Business Data Analyst II works directly with the internal or external client to identify analytical requirements. May help to produce ad hoc data and reports. Additionally, Business Data Analyst II may assist in implementing or developing systems to capture business operation information. May occasionally guide less experienced business data analysts. Requires a bachelor&#39;s degree. Typically reports to a supervisor or manager. The Business Data Analyst II gains exposure to some of the complex tasks within the job function. Occasionally directed in several aspects of the work. To be a Business Data Analyst II typically requires 2 to 4 years of related experience.',\n",
       "  '51156',\n",
       "  '58802',\n",
       "  '67201',\n",
       "  '74975',\n",
       "  '82054'),\n",
       " ('Business Data Analyst II',\n",
       "  'Nashville, TN',\n",
       "  'Business Data Analyst II performs business analysis using various techniques, e.g. statistical analysis, explanatory and predictive modeling, data mining. Determines best practices and develops actionable insights and recommendations for the current business operations. Being a Business Data Analyst II works directly with the internal or external client to identify analytical requirements. May help to produce ad hoc data and reports. Additionally, Business Data Analyst II may assist in implementing or developing systems to capture business operation information. May occasionally guide less experienced business data analysts. Requires a bachelor&#39;s degree. Typically reports to a supervisor or manager. The Business Data Analyst II gains exposure to some of the complex tasks within the job function. Occasionally directed in several aspects of the work. To be a Business Data Analyst II typically requires 2 to 4 years of related experience.',\n",
       "  '54353',\n",
       "  '62477',\n",
       "  '71401',\n",
       "  '79662',\n",
       "  '87183'),\n",
       " ('Business Data Analyst II',\n",
       "  'Detroit, MI',\n",
       "  'Business Data Analyst II performs business analysis using various techniques, e.g. statistical analysis, explanatory and predictive modeling, data mining. Determines best practices and develops actionable insights and recommendations for the current business operations. Being a Business Data Analyst II works directly with the internal or external client to identify analytical requirements. May help to produce ad hoc data and reports. Additionally, Business Data Analyst II may assist in implementing or developing systems to capture business operation information. May occasionally guide less experienced business data analysts. Requires a bachelor&#39;s degree. Typically reports to a supervisor or manager. The Business Data Analyst II gains exposure to some of the complex tasks within the job function. Occasionally directed in several aspects of the work. To be a Business Data Analyst II typically requires 2 to 4 years of related experience.',\n",
       "  '59486',\n",
       "  '68377',\n",
       "  '78143',\n",
       "  '87184',\n",
       "  '95416'),\n",
       " ('Business Data Analyst II',\n",
       "  'Oklahoma City, OK',\n",
       "  'Business Data Analyst II performs business analysis using various techniques, e.g. statistical analysis, explanatory and predictive modeling, data mining. Determines best practices and develops actionable insights and recommendations for the current business operations. Being a Business Data Analyst II works directly with the internal or external client to identify analytical requirements. May help to produce ad hoc data and reports. Additionally, Business Data Analyst II may assist in implementing or developing systems to capture business operation information. May occasionally guide less experienced business data analysts. Requires a bachelor&#39;s degree. Typically reports to a supervisor or manager. The Business Data Analyst II gains exposure to some of the complex tasks within the job function. Occasionally directed in several aspects of the work. To be a Business Data Analyst II typically requires 2 to 4 years of related experience.',\n",
       "  '53427',\n",
       "  '61413',\n",
       "  '70184',\n",
       "  '78304',\n",
       "  '85697'),\n",
       " ('Business Data Analyst II',\n",
       "  'Portland, OR',\n",
       "  'Business Data Analyst II performs business analysis using various techniques, e.g. statistical analysis, explanatory and predictive modeling, data mining. Determines best practices and develops actionable insights and recommendations for the current business operations. Being a Business Data Analyst II works directly with the internal or external client to identify analytical requirements. May help to produce ad hoc data and reports. Additionally, Business Data Analyst II may assist in implementing or developing systems to capture business operation information. May occasionally guide less experienced business data analysts. Requires a bachelor&#39;s degree. Typically reports to a supervisor or manager. The Business Data Analyst II gains exposure to some of the complex tasks within the job function. Occasionally directed in several aspects of the work. To be a Business Data Analyst II typically requires 2 to 4 years of related experience.',\n",
       "  '60719',\n",
       "  '69795',\n",
       "  '79763',\n",
       "  '88991',\n",
       "  '97393'),\n",
       " ('Business Data Analyst II',\n",
       "  'Las Vegas, NV',\n",
       "  'Business Data Analyst II performs business analysis using various techniques, e.g. statistical analysis, explanatory and predictive modeling, data mining. Determines best practices and develops actionable insights and recommendations for the current business operations. Being a Business Data Analyst II works directly with the internal or external client to identify analytical requirements. May help to produce ad hoc data and reports. Additionally, Business Data Analyst II may assist in implementing or developing systems to capture business operation information. May occasionally guide less experienced business data analysts. Requires a bachelor&#39;s degree. Typically reports to a supervisor or manager. The Business Data Analyst II gains exposure to some of the complex tasks within the job function. Occasionally directed in several aspects of the work. To be a Business Data Analyst II typically requires 2 to 4 years of related experience.',\n",
       "  '59743',\n",
       "  '68673',\n",
       "  '78481',\n",
       "  '87562',\n",
       "  '95828'),\n",
       " ('Business Data Analyst II',\n",
       "  'Memphis, TN',\n",
       "  'Business Data Analyst II performs business analysis using various techniques, e.g. statistical analysis, explanatory and predictive modeling, data mining. Determines best practices and develops actionable insights and recommendations for the current business operations. Being a Business Data Analyst II works directly with the internal or external client to identify analytical requirements. May help to produce ad hoc data and reports. Additionally, Business Data Analyst II may assist in implementing or developing systems to capture business operation information. May occasionally guide less experienced business data analysts. Requires a bachelor&#39;s degree. Typically reports to a supervisor or manager. The Business Data Analyst II gains exposure to some of the complex tasks within the job function. Occasionally directed in several aspects of the work. To be a Business Data Analyst II typically requires 2 to 4 years of related experience.',\n",
       "  '54199',\n",
       "  '62300',\n",
       "  '71198',\n",
       "  '79435',\n",
       "  '86935'),\n",
       " ('Business Data Analyst II',\n",
       "  'Louisville, KY',\n",
       "  'Business Data Analyst II performs business analysis using various techniques, e.g. statistical analysis, explanatory and predictive modeling, data mining. Determines best practices and develops actionable insights and recommendations for the current business operations. Being a Business Data Analyst II works directly with the internal or external client to identify analytical requirements. May help to produce ad hoc data and reports. Additionally, Business Data Analyst II may assist in implementing or developing systems to capture business operation information. May occasionally guide less experienced business data analysts. Requires a bachelor&#39;s degree. Typically reports to a supervisor or manager. The Business Data Analyst II gains exposure to some of the complex tasks within the job function. Occasionally directed in several aspects of the work. To be a Business Data Analyst II typically requires 2 to 4 years of related experience.',\n",
       "  '55152',\n",
       "  '63396',\n",
       "  '72450',\n",
       "  '80833',\n",
       "  '88464'),\n",
       " ('Business Data Analyst II',\n",
       "  'Baltimore, MD',\n",
       "  'Business Data Analyst II performs business analysis using various techniques, e.g. statistical analysis, explanatory and predictive modeling, data mining. Determines best practices and develops actionable insights and recommendations for the current business operations. Being a Business Data Analyst II works directly with the internal or external client to identify analytical requirements. May help to produce ad hoc data and reports. Additionally, Business Data Analyst II may assist in implementing or developing systems to capture business operation information. May occasionally guide less experienced business data analysts. Requires a bachelor&#39;s degree. Typically reports to a supervisor or manager. The Business Data Analyst II gains exposure to some of the complex tasks within the job function. Occasionally directed in several aspects of the work. To be a Business Data Analyst II typically requires 2 to 4 years of related experience.',\n",
       "  '60124',\n",
       "  '69110',\n",
       "  '78981',\n",
       "  '88119',\n",
       "  '96438')]"
      ]
     },
     "execution_count": 49,
     "metadata": {},
     "output_type": "execute_result"
    }
   ],
   "source": [
    "main('business-data-analyst-ii')"
   ]
  },
  {
   "cell_type": "code",
   "execution_count": null,
   "metadata": {},
   "outputs": [],
   "source": []
  }
 ],
 "metadata": {
  "kernelspec": {
   "display_name": "Python 3",
   "language": "python",
   "name": "python3"
  },
  "language_info": {
   "codemirror_mode": {
    "name": "ipython",
    "version": 3
   },
   "file_extension": ".py",
   "mimetype": "text/x-python",
   "name": "python",
   "nbconvert_exporter": "python",
   "pygments_lexer": "ipython3",
   "version": "3.8.5"
  }
 },
 "nbformat": 4,
 "nbformat_minor": 4
}
