{
 "cells": [
  {
   "cell_type": "markdown",
   "metadata": {},
   "source": [
    "# wikipedia.com - Countries List Scraper"
   ]
  },
  {
   "cell_type": "code",
   "execution_count": 118,
   "metadata": {},
   "outputs": [],
   "source": [
    "import requests\n",
    "from bs4 import BeautifulSoup\n",
    "import pandas as pd\n",
    "import csv"
   ]
  },
  {
   "cell_type": "code",
   "execution_count": 119,
   "metadata": {},
   "outputs": [],
   "source": [
    "headers = {'User-Agent':'Mozilla/5.0 (Windows NT 10.0; Win64; x64) AppleWebKit/537.36 (KHTML, like Gecko) Chrome/89.0.4389.90 Safari/537.36'}"
   ]
  },
  {
   "cell_type": "code",
   "execution_count": 120,
   "metadata": {},
   "outputs": [
    {
     "data": {
      "text/plain": [
       "<Response [200]>"
      ]
     },
     "execution_count": 120,
     "metadata": {},
     "output_type": "execute_result"
    }
   ],
   "source": [
    "#Check response status\n",
    "url = 'https://en.wikipedia.org/wiki/List_of_largest_cities'\n",
    "response = requests.get(url, headers=headers)\n",
    "response"
   ]
  },
  {
   "cell_type": "code",
   "execution_count": 121,
   "metadata": {},
   "outputs": [],
   "source": [
    "soup = BeautifulSoup(response.content, 'html.parser')"
   ]
  },
  {
   "cell_type": "code",
   "execution_count": 127,
   "metadata": {},
   "outputs": [],
   "source": [
    "table = soup.find('table', {'class':'wikitable'})\n",
    "tbody = table.find('tbody')\n",
    "\n",
    "with open('world_largest_cities.csv', newline='', mode='w', encoding='utf-8') as file:\n",
    "    csv_writer = csv.writer(file)\n",
    "    header = ['City', 'Country', 'UN_2018_Population', 'Definition', 'City_Population', 'City_Land_Area_km2', 'Metro_Population', 'Metro_Land_Area_km2', 'Urban_Population', 'Urban_Land_Area_km2']\n",
    "    csv_writer.writerow(header)\n",
    "    \n",
    "    for tr in tbody.find_all('tr'):\n",
    "        td = tr.find_all('td')\n",
    "        if len(td) == 0:  # add this to remove empty lists which can cause error\n",
    "            continue\n",
    "        city = td[0].text.strip()\n",
    "        country = td[1].text.strip()\n",
    "        UN_2018_population = td[3].text.strip()\n",
    "        definition = td[4].text.strip()\n",
    "        city_population = td[5].text.strip()\n",
    "        city_land_area_km2 = td[6].text.strip()\n",
    "        metro_population = td[7].text.strip()\n",
    "        metro_land_area_km2 = td[8].text.strip()\n",
    "        urban_population = td[9].text.strip()\n",
    "        urban_land_area_km2 = td[10].text.strip()\n",
    "\n",
    "        records = ([city, country, UN_2018_population, definition, city_population, city_land_area_km2, metro_population, metro_land_area_km2, urban_population, urban_land_area_km2])\n",
    "\n",
    "        csv_writer.writerow(records)\n",
    "\n",
    "        #print(records)"
   ]
  },
  {
   "cell_type": "code",
   "execution_count": null,
   "metadata": {},
   "outputs": [],
   "source": []
  }
 ],
 "metadata": {
  "kernelspec": {
   "display_name": "Python 3",
   "language": "python",
   "name": "python3"
  },
  "language_info": {
   "codemirror_mode": {
    "name": "ipython",
    "version": 3
   },
   "file_extension": ".py",
   "mimetype": "text/x-python",
   "name": "python",
   "nbconvert_exporter": "python",
   "pygments_lexer": "ipython3",
   "version": "3.8.5"
  }
 },
 "nbformat": 4,
 "nbformat_minor": 4
}
